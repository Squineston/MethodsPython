{
  "nbformat": 4,
  "nbformat_minor": 0,
  "metadata": {
    "colab": {
      "provenance": [],
      "authorship_tag": "ABX9TyOPDqWemeKK5rlNXp3Gucoc",
      "include_colab_link": true
    },
    "kernelspec": {
      "name": "python3",
      "display_name": "Python 3"
    },
    "language_info": {
      "name": "python"
    }
  },
  "cells": [
    {
      "cell_type": "markdown",
      "metadata": {
        "id": "view-in-github",
        "colab_type": "text"
      },
      "source": [
        "<a href=\"https://colab.research.google.com/github/Squineston/MethodsPython/blob/main/Methods.ipynb\" target=\"_parent\"><img src=\"https://colab.research.google.com/assets/colab-badge.svg\" alt=\"Open In Colab\"/></a>"
      ]
    },
    {
      "cell_type": "code",
      "source": [
        "import random"
      ],
      "metadata": {
        "id": "xl62eKBc5CzE"
      },
      "execution_count": null,
      "outputs": []
    },
    {
      "cell_type": "code",
      "source": [
        "def arrayPopulate(length):\n",
        "  randArray = []\n",
        "  for i in range(0, length):\n",
        "    randArray.append(random.randrange(10,50))\n",
        "  return randArray"
      ],
      "metadata": {
        "id": "SVmukklk5YDP"
      },
      "execution_count": 5,
      "outputs": []
    },
    {
      "cell_type": "code",
      "source": [
        "def arraySum(array):\n",
        "  sum = 0\n",
        "  for i in range(0, len(array)):    \n",
        "   sum = sum + array[i]\n",
        "  return sum"
      ],
      "metadata": {
        "id": "LFuTwYBB7GXa"
      },
      "execution_count": 26,
      "outputs": []
    },
    {
      "cell_type": "code",
      "source": [
        "integer = int(input(\"Please enter an integer value between 5 and 15: \"))"
      ],
      "metadata": {
        "colab": {
          "base_uri": "https://localhost:8080/"
        },
        "id": "T1Q4CoqA75yh",
        "outputId": "73777775-3d5c-47a1-f2e0-8d359e7f9128"
      },
      "execution_count": 14,
      "outputs": [
        {
          "name": "stdout",
          "output_type": "stream",
          "text": [
            "Please enter an integer value between 5 and 15: 4\n"
          ]
        }
      ]
    },
    {
      "cell_type": "code",
      "source": [
        "while integer < 5 or integer > 15:\n",
        "  integer = int(input(\"Invalid Input. Please enter an integer value between 5 and 15: \"))"
      ],
      "metadata": {
        "id": "VI1-MEJl8Qa7"
      },
      "execution_count": 22,
      "outputs": []
    },
    {
      "cell_type": "code",
      "source": [
        "array = arrayPopulate(integer)"
      ],
      "metadata": {
        "id": "guX-9C2U-UHF"
      },
      "execution_count": 23,
      "outputs": []
    },
    {
      "cell_type": "code",
      "source": [
        "print(\"The elements of the array are:\", array)"
      ],
      "metadata": {
        "colab": {
          "base_uri": "https://localhost:8080/"
        },
        "id": "ipJrzyg-8vWW",
        "outputId": "6fc70fb2-0cd7-4ae1-d44f-d67bc67e56bd"
      },
      "execution_count": 24,
      "outputs": [
        {
          "output_type": "stream",
          "name": "stdout",
          "text": [
            "The elements of the array are: [33, 49, 21, 36, 40, 32]\n"
          ]
        }
      ]
    },
    {
      "cell_type": "code",
      "source": [
        "sum = arraySum(array)"
      ],
      "metadata": {
        "id": "V1x4IfEQ9Mg7"
      },
      "execution_count": 27,
      "outputs": []
    },
    {
      "cell_type": "code",
      "source": [
        "print(\"The sum is:\", sum)"
      ],
      "metadata": {
        "colab": {
          "base_uri": "https://localhost:8080/"
        },
        "id": "BBU37-mS-yau",
        "outputId": "26b7364e-be4d-4088-960f-736307fd7106"
      },
      "execution_count": 28,
      "outputs": [
        {
          "output_type": "stream",
          "name": "stdout",
          "text": [
            "The sum is: 211\n"
          ]
        }
      ]
    }
  ]
}